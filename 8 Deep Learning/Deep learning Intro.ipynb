{
 "cells": [
  {
   "cell_type": "markdown",
   "metadata": {},
   "source": [
    "Deep Learning is the most exciting and powerful branch of Machine Learning.\n",
    "Deep Learning models can be used for a variety of complex tasks:\n",
    "\n",
    "Artificial Neural Networks for Regression and Classification\n",
    "\n",
    "Convolutional Neural Networks for Computer Vision\n",
    "\n",
    "Recurrent Neural Networks for Time Series Analysis\n",
    "\n",
    "Self Organizing Maps for Feature Extraction\n",
    "\n",
    "Deep Boltzmann Machines for Recommendation Systems\n",
    "\n",
    "Auto Encoders for Recommendation Systems\n",
    "\n",
    "In this part, you will understand and learn how to implement the following Deep Learning models:\n",
    "\n",
    "Artificial Neural Networks for a Business Problem\n",
    "\n",
    "Convolutional Neural Networks for a Computer Vision task"
   ]
  }
 ],
 "metadata": {
  "kernelspec": {
   "display_name": "Python 3",
   "language": "python",
   "name": "python3"
  },
  "language_info": {
   "codemirror_mode": {
    "name": "ipython",
    "version": 3
   },
   "file_extension": ".py",
   "mimetype": "text/x-python",
   "name": "python",
   "nbconvert_exporter": "python",
   "pygments_lexer": "ipython3",
   "version": "3.6.4"
  }
 },
 "nbformat": 4,
 "nbformat_minor": 2
}
