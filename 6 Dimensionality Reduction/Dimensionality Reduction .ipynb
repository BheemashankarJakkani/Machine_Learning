{
 "cells": [
  {
   "cell_type": "markdown",
   "metadata": {},
   "source": [
    " Classification, we worked with datasets composed of only two independent variables. We did for two reasons:\n",
    "\n",
    "Because we needed two dimensions to visualize better how Machine Learning models worked\n",
    "(by plotting the prediction regions and the prediction boundary for each model).\n",
    "Because whatever is the original number of our independent variables, we can often end up \n",
    "with two independent variables by applying an appropriate Dimensionality Reduction technique.\n",
    "\n",
    "\n",
    "There are two types of Dimensionality Reduction techniques:\n",
    "\n",
    "1.Feature Selection\n",
    "\n",
    "2.Feature Extraction\n",
    "\n",
    "\n",
    "Feature Selection techniques are Backward Elimination, Forward Selection, Bidirectional Elimination, Score Comparison\n",
    "and more. We have these techniques in - Regression.\n",
    "\n",
    " the following Feature Extraction techniques:\n",
    "\n",
    "1.Principal Component Analysis (PCA)\n",
    "\n",
    "2.Linear Discriminant Analysis (LDA)\n",
    "\n",
    "3.Kernel PCA\n",
    "\n",
    "4.Quadratic Discriminant Analysis (QDA)\n"
   ]
  }
 ],
 "metadata": {
  "kernelspec": {
   "display_name": "Python 3",
   "language": "python",
   "name": "python3"
  },
  "language_info": {
   "codemirror_mode": {
    "name": "ipython",
    "version": 3
   },
   "file_extension": ".py",
   "mimetype": "text/x-python",
   "name": "python",
   "nbconvert_exporter": "python",
   "pygments_lexer": "ipython3",
   "version": "3.6.4"
  }
 },
 "nbformat": 4,
 "nbformat_minor": 2
}
